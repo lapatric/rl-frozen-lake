{
 "cells": [
  {
   "cell_type": "code",
   "execution_count": 1,
   "metadata": {},
   "outputs": [],
   "source": [
    "import numpy as np\n",
    "import gymnasium as gym\n",
    "import random\n",
    "import time\n",
    "from tqdm import tqdm\n",
    "from collections import defaultdict\n",
    "from IPython.display import clear_output"
   ]
  },
  {
   "cell_type": "code",
   "execution_count": 2,
   "metadata": {},
   "outputs": [
    {
     "data": {
      "text/plain": [
       "(0, {'prob': 1})"
      ]
     },
     "execution_count": 2,
     "metadata": {},
     "output_type": "execute_result"
    }
   ],
   "source": [
    "# Set render_mode=\"human\" to enable rendering, else render_mode=None\n",
    "env = gym.make(\"FrozenLake-v1\", render_mode=None, is_slippery=False)\n",
    "env.reset()\n",
    "\n",
    "if env.render_mode == \"human\":\n",
    "    env.render()"
   ]
  },
  {
   "cell_type": "code",
   "execution_count": 3,
   "metadata": {},
   "outputs": [
    {
     "name": "stdout",
     "output_type": "stream",
     "text": [
      "Discrete(16)\n",
      "16\n",
      "Discrete(4)\n",
      "4\n"
     ]
    }
   ],
   "source": [
    "# observation space - states\n",
    "print(env.observation_space)\n",
    "print(env.observation_space.n)\n",
    "\n",
    "# action space - (0) left, (1) down, (2) right, (3) up\n",
    "print(env.action_space)\n",
    "print(env.action_space.n)"
   ]
  },
  {
   "attachments": {},
   "cell_type": "markdown",
   "metadata": {},
   "source": [
    "# Frozen Lake - Stochastic movement\n",
    "\n",
    "Note that if `is_slippery` is True (default), then the agent will move in the intended direction with a probability of 1/3, otherwise they will move in either *perpendicular* direction with an equal probability of 1/3 in both directions. Hence, an action `right` may result in the agent moving, `down` or `up` instead!"
   ]
  },
  {
   "cell_type": "code",
   "execution_count": 4,
   "metadata": {},
   "outputs": [
    {
     "name": "stderr",
     "output_type": "stream",
     "text": [
      "/Users/patrick/opt/anaconda3/envs/drl/lib/python3.10/site-packages/gymnasium/utils/passive_env_checker.py:249: DeprecationWarning: `np.bool8` is a deprecated alias for `np.bool_`.  (Deprecated NumPy 1.24)\n",
      "  if not isinstance(terminated, (bool, np.bool8)):\n"
     ]
    },
    {
     "name": "stdout",
     "output_type": "stream",
     "text": [
      "up\n",
      "right\n",
      "down\n",
      "Episode terminated!\n"
     ]
    }
   ],
   "source": [
    "env.reset()\n",
    "terminated = False\n",
    "while(not terminated):\n",
    "    # generate and apply random action\n",
    "    randomAction = env.action_space.sample()\n",
    "    next_state, reward, terminated, truncated, info = env.step(randomAction)\n",
    "    print([\"left\", \"down\", \"right\", \"up\"][randomAction])\n",
    "    if not terminated : time.sleep(2)\n",
    "\n",
    "print(\"Episode terminated!\")"
   ]
  },
  {
   "attachments": {},
   "cell_type": "markdown",
   "metadata": {},
   "source": [
    "## Transition Probabilities\n",
    "\n",
    "`p(s'|s,a)` denotes the transition probability to next state `s'` from current state `s` with action `a`."
   ]
  },
  {
   "cell_type": "code",
   "execution_count": 5,
   "metadata": {},
   "outputs": [
    {
     "data": {
      "text/plain": [
       "[(1.0, 4, 0.0, False)]"
      ]
     },
     "execution_count": 5,
     "metadata": {},
     "output_type": "execute_result"
    }
   ],
   "source": [
    "# env.P[state][action]\n",
    "# Output: transition probability, next state, reward, is terminal\n",
    "env.P[0][1]"
   ]
  },
  {
   "attachments": {},
   "cell_type": "markdown",
   "metadata": {},
   "source": [
    "# Building an agent"
   ]
  },
  {
   "cell_type": "code",
   "execution_count": 6,
   "metadata": {},
   "outputs": [],
   "source": [
    "class FrozenLakeAgent:\n",
    "    def __init__(\n",
    "        self,\n",
    "        learning_rate: float,\n",
    "        initial_epsilon: float,\n",
    "        epsilon_decay: float,\n",
    "        final_epsilon: float,\n",
    "        discount_factor: float = 0.95\n",
    "    ):\n",
    "        \"\"\"\n",
    "        Initialize a Reinforcement Learning agent with an empty dictionary of state-action values (q_values),\n",
    "        a learning rate and an epsilon.\n",
    "        Args:\n",
    "        - learning_rate: Amount with which to weight newly learned reward vs old reward (1 - lr)\n",
    "        - initial epsilon: The initial probability w/ with we sample random action (exploration)\n",
    "        - epsilon_decay: Value by which epsilon value decays through subtraction\n",
    "        - final_epsilon: Epsilon value at which decay stops\n",
    "        - discount_factor: The factor by which future rewards are counted, i.e. expected return on next state (recursive)\n",
    "        \"\"\"\n",
    "        self.q_values = defaultdict(lambda: np.zeros(env.action_space.n))\n",
    "\n",
    "        self.lr = learning_rate\n",
    "        self.discount_factor = discount_factor\n",
    "\n",
    "        self.epsilon = initial_epsilon\n",
    "        self.epsilon_decay = epsilon_decay\n",
    "        self.final_epsilon = final_epsilon\n",
    "        \n",
    "        self.training_error = []\n",
    "    \n",
    "    def get_action(self, state: tuple[int, int, bool]) -> int:\n",
    "        \"\"\"\n",
    "        Returns the best action with probability (1 - epsilon) -> exploitation. \n",
    "        Otherwise a random action with probability epsilon to ensure exploration.\n",
    "        \"\"\"\n",
    "        if np.random.random() < self.epsilon:\n",
    "            return env.action_space.sample()\n",
    "        else:\n",
    "            return int(np.argmax(self.q_values[state]))\n",
    "    \n",
    "    def update(\n",
    "        self,\n",
    "        state: tuple[int, int, bool],\n",
    "        action: int,\n",
    "        reward: float,\n",
    "        terminated: bool,\n",
    "        next_state: tuple[int, int, bool]\n",
    "    ):\n",
    "        \"\"\"\n",
    "        Updates the Q-value of an action.\n",
    "        The Q-value update is equivalent to the following weighting of old and new information by the learning rate:\n",
    "        # self.q_values[state][action] = (1 - self.lr) * self.q_values[state][action] +\n",
    "        #                                self.lr * (reward + self.discount_factor * future_q_value)\n",
    "        The temporal difference is the difference between the old and new value over one (time) step.\n",
    "        \"\"\"\n",
    "        future_q_value = (not terminated) * np.max(self.q_values[next_state]) \n",
    "        temporal_difference = reward + self.discount_factor * future_q_value - self.q_values[state][action]\n",
    "        self.q_values[state][action] = self.q_values[state][action] + self.lr * temporal_difference\n",
    "        self.training_error.append(temporal_difference)\n",
    "\n",
    "    def decay_epsilon(self):\n",
    "        self.epsilon = max(self.final_epsilon, self.epsilon - self.epsilon_decay)"
   ]
  },
  {
   "cell_type": "code",
   "execution_count": null,
   "metadata": {},
   "outputs": [],
   "source": [
    "print(agent.q_values)"
   ]
  },
  {
   "attachments": {},
   "cell_type": "markdown",
   "metadata": {},
   "source": [
    "# Write training loop"
   ]
  },
  {
   "cell_type": "code",
   "execution_count": 7,
   "metadata": {},
   "outputs": [
    {
     "name": "stderr",
     "output_type": "stream",
     "text": [
      "100%|██████████| 100000/100000 [00:51<00:00, 1957.43it/s]\n"
     ]
    }
   ],
   "source": [
    "learning_rate = 0.01\n",
    "n_episodes = 100_000\n",
    "initial_epsilon = 1.0\n",
    "epsilon_decay = initial_epsilon / (n_episodes / 2)\n",
    "final_epsilon = 0.1\n",
    "\n",
    "agent = FrozenLakeAgent(\n",
    "    learning_rate = learning_rate,\n",
    "    initial_epsilon = initial_epsilon,\n",
    "    epsilon_decay = epsilon_decay,\n",
    "    final_epsilon = final_epsilon,\n",
    ")\n",
    "\n",
    "env = gym.wrappers.RecordEpisodeStatistics(env, deque_size=n_episodes)\n",
    "for episode in tqdm(range(n_episodes)):\n",
    "    state, info = env.reset()\n",
    "    done = False\n",
    "    \n",
    "    #play one episode\n",
    "    while not done:\n",
    "        action = agent.get_action(state)\n",
    "        next_state, reward, terminated, truncated, info = env.step(action)\n",
    "\n",
    "        # update the agent\n",
    "        agent.update(state, action, reward, terminated, next_state)\n",
    "\n",
    "        # update done status and state\n",
    "        done = terminated or truncated\n",
    "        state = next_state\n",
    "\n",
    "    # once a game is finished we decay epsilon -> converge towards exploitation\n",
    "    agent.decay_epsilon()"
   ]
  },
  {
   "cell_type": "code",
   "execution_count": 23,
   "metadata": {},
   "outputs": [
    {
     "data": {
      "image/png": "[encoded data removed]",
      "text/plain": [
       "<Figure size 864x360 with 3 Axes>"
      ]
     },
     "metadata": {
      "needs_background": "light"
     },
     "output_type": "display_data"
    }
   ],
   "source": [
    "import matplotlib.pyplot as plt\n",
    "import seaborn as sns\n",
    "from matplotlib.patches import Patch\n",
    "\n",
    "rolling_length = 500\n",
    "fig, axs = plt.subplots(ncols=3, figsize=(12, 5))\n",
    "\n",
    "# Episode rewards plot\n",
    "axs[0].set_title(\"Episode rewards\")\n",
    "reward_moving_average = (\n",
    "    np.convolve(np.array(env.return_queue).flatten(), np.ones(rolling_length), mode=\"valid\") / rolling_length\n",
    ")\n",
    "axs[0].plot(range(len(reward_moving_average)), reward_moving_average)\n",
    "\n",
    "# Episode lengths plot\n",
    "axs[1].set_title(\"Episode lengths\")\n",
    "length_moving_average = (\n",
    "    np.convolve(np.array(env.length_queue).flatten(), np.ones(rolling_length), mode=\"valid\") / rolling_length # or: mode=\"same\"\n",
    ")\n",
    "axs[1].plot(range(len(length_moving_average)), length_moving_average)\n",
    "\n",
    "# Training error plot\n",
    "axs[2].set_title(\"Training Error\")\n",
    "training_error_moving_average = (\n",
    "    np.convolve(np.array(agent.training_error), np.ones(rolling_length), mode=\"valid\") / rolling_length # or: mode=\"same\"\n",
    ")\n",
    "axs[2].plot(range(len(training_error_moving_average)), training_error_moving_average)\n",
    "\n",
    "plt.tight_layout()\n",
    "plt.show()"
   ]
  },
  {
   "cell_type": "markdown",
   "metadata": {},
   "source": [
    "# Visualising the policy\n",
    "\n",
    "Given our *state-action values* `q_values`,  we obtain *state values* by taking for each state the maximum state-action value: `state_value[state] = float(np.max(action_values))`. The optimal policy is obtained by taking the `argmax` instead of the `max`, thus yielding the action with the highest expected return in a given state. "
   ]
  },
  {
   "cell_type": "code",
   "execution_count": 70,
   "metadata": {},
   "outputs": [
    {
     "data": {
      "image/png": "[encoded data removed]",
      "text/plain": [
       "<Figure size 720x288 with 2 Axes>"
      ]
     },
     "metadata": {
      "needs_background": "light"
     },
     "output_type": "display_data"
    }
   ],
   "source": [
    "def create_grids(agent, usable_ace=False):\n",
    "    \"\"\"Create value and policy grid given an agent.\"\"\"\n",
    "    # convert our state-action values to state values\n",
    "    # and build a policy dictionary that maps observations to actions\n",
    "    state_value = defaultdict(float)\n",
    "    policy = defaultdict(int)\n",
    "    for state, action_values in agent.q_values.items():\n",
    "        state_value[state] = float(np.max(action_values))\n",
    "        policy[state] = int(np.argmax(action_values))\n",
    "\n",
    "    X, Y = np.meshgrid(np.arange(0, 4), np.arange(0, 4))\n",
    "    value_grid = np.apply_along_axis(lambda state: state_value[state[1] * 4 + state[0]], axis=2, arr=np.dstack([X, Y]))\n",
    "    policy_grid = np.apply_along_axis(lambda state: policy[state[1] * 4 + state[0]] if state_value[state[1] * 4 + state[0]] > 0 else -1, axis=2, arr=np.dstack([X, Y]))\n",
    "\n",
    "    return value_grid, policy_grid\n",
    "\n",
    "\n",
    "def create_plots(value_grid, policy_grid, title: str):\n",
    "    \"\"\"Creates a plot using a value and policy grid.\"\"\"\n",
    "    # create a new figure with 2 subplots (left: state values, right: policy)\n",
    "    fig = plt.figure(figsize=plt.figaspect(0.4))\n",
    "    fig.suptitle(title, fontsize=16)\n",
    "    \n",
    "    # plot the state values\n",
    "    ax1 = fig.add_subplot(1, 2, 1)\n",
    "    ax2 = sns.heatmap(value_grid, linewidth=0, annot=True, cmap=\"plasma\", cbar=False)\n",
    "    ax2.set_title(f\"Value: {title}\")\n",
    "    ax2.set_xlabel(\"X axis\")\n",
    "    ax2.set_ylabel(\"Y axis\")\n",
    "    ax2.set_xticklabels(range(0, 4))\n",
    "    ax2.set_yticklabels(range(0, 4), fontsize=12)\n",
    "\n",
    "\n",
    "    # plot the policy\n",
    "    fig.add_subplot(1, 2, 2)\n",
    "    ax2 = sns.heatmap(policy_grid, linewidth=0, annot=True, cmap=\"winter\", cbar=False)\n",
    "    ax2.set_title(f\"Policy: {title}\")\n",
    "    ax2.set_xlabel(\"X axis\")\n",
    "    ax2.set_ylabel(\"Y axis\")\n",
    "    ax2.set_xticklabels(range(0, 4))\n",
    "    ax2.set_yticklabels(range(0, 4), fontsize=12)\n",
    "\n",
    "    # add a legend\n",
    "    cmap = plt.cm.winter\n",
    "    legend_elements = [\n",
    "        Patch(facecolor=cmap(0.25), edgecolor=\"black\", label=\"Left\"),\n",
    "        Patch(facecolor=cmap(0.5), edgecolor=\"black\", label=\"Down\"),\n",
    "        Patch(facecolor=cmap(0.99), edgecolor=\"black\", label=\"Right\"),\n",
    "    ]\n",
    "    ax2.legend(handles=legend_elements, bbox_to_anchor=(1.3, 1))\n",
    "    return fig\n",
    "\n",
    "\n",
    "# state values & policy with usable ace (ace counts as 11)\n",
    "value_grid, policy_grid = create_grids(agent, usable_ace=True)\n",
    "fig1 = create_plots(value_grid, policy_grid, title=\"Frozen Lake\")\n",
    "plt.show()"
   ]
  },
  {
   "cell_type": "code",
   "execution_count": null,
   "metadata": {},
   "outputs": [],
   "source": []
  }
 ],
 "metadata": {
  "kernelspec": {
   "display_name": "Python 3.10.8 ('drl')",
   "language": "python",
   "name": "python3"
  },
  "language_info": {
   "codemirror_mode": {
    "name": "ipython",
    "version": 3
   },
   "file_extension": ".py",
   "mimetype": "text/x-python",
   "name": "python",
   "nbconvert_exporter": "python",
   "pygments_lexer": "ipython3",
   "version": "3.10.8"
  },
  "orig_nbformat": 4,
  "vscode": {
   "interpreter": {
    "hash": "28c168c855826d6a306c7ef584e2992a063631e8777795e1e4ec8bd8ff15ed8c"
   }
  }
 },
 "nbformat": 4,
 "nbformat_minor": 2
}
