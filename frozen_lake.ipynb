{
 "cells": [
  {
   "cell_type": "code",
   "execution_count": null,
   "metadata": {},
   "outputs": [],
   "source": [
    "import numpy as np\n",
    "import gymnasium as gym\n",
    "import random\n",
    "import time\n",
    "from tqdm import tqdm\n",
    "from collections import defaultdict\n",
    "from IPython.display import clear_output"
   ]
  },
  {
   "cell_type": "code",
   "execution_count": null,
   "metadata": {},
   "outputs": [],
   "source": [
    "env = gym.make(\"FrozenLake-v1\", render_mode=\"human\", is_slippery=False)\n",
    "env.reset()\n",
    "\n",
    "env.render()"
   ]
  },
  {
   "cell_type": "code",
   "execution_count": null,
   "metadata": {},
   "outputs": [],
   "source": [
    "# observation space - states\n",
    "print(env.observation_space)\n",
    "print(env.observation_space.n)\n",
    "\n",
    "# action space - (0) left, (1) down, (2) right, (3) up\n",
    "print(env.action_space)\n",
    "print(env.action_space.n)"
   ]
  },
  {
   "attachments": {},
   "cell_type": "markdown",
   "metadata": {},
   "source": [
    "# Frozen Lake - Stochastic movement\n",
    "\n",
    "Note that if `is_slippery` is True (default), then the agent will move in the intended direction with a probability of 1/3, otherwise they will move in either *perpendicular* direction with an equal probability of 1/3 in both directions. Hence, an action `right` may result in the agent moving, `down` or `up` instead!"
   ]
  },
  {
   "cell_type": "code",
   "execution_count": null,
   "metadata": {},
   "outputs": [],
   "source": [
    "env.reset()\n",
    "terminated = False\n",
    "while(not terminated):\n",
    "    # generate and apply random action\n",
    "    randomAction = env.action_space.sample()\n",
    "    next_state, reward, terminated, truncated, info = env.step(randomAction)\n",
    "    print([\"left\", \"down\", \"right\", \"up\"][randomAction])\n",
    "    if not terminated : time.sleep(2)\n",
    "\n",
    "print(\"Episode terminated!\")"
   ]
  },
  {
   "attachments": {},
   "cell_type": "markdown",
   "metadata": {},
   "source": [
    "## Transition Probabilities\n",
    "\n",
    "`p(s'|s,a)` denotes the transition probability to next state `s'` from current state `s` with action `a`."
   ]
  },
  {
   "cell_type": "code",
   "execution_count": null,
   "metadata": {},
   "outputs": [],
   "source": [
    "# env.P[state][action]\n",
    "# Output: transition probability, next state, reward, is terminal\n",
    "env.P[0][1]"
   ]
  },
  {
   "attachments": {},
   "cell_type": "markdown",
   "metadata": {},
   "source": [
    "# Building an agent"
   ]
  },
  {
   "cell_type": "code",
   "execution_count": null,
   "metadata": {},
   "outputs": [],
   "source": [
    "class FrozenLakeAgent:\n",
    "    def __init__(\n",
    "        self,\n",
    "        learning_rate: float,\n",
    "        initial_epsilon: float,\n",
    "        epsilon_decay: float,\n",
    "        final_epsilon: float,\n",
    "        discount_factor: float = 0.95\n",
    "    ):\n",
    "        \"\"\"\n",
    "        Initialize a Reinforcement Learning agent with an empty dictionary of state-action values (q_values),\n",
    "        a learning rate and an epsilon.\n",
    "        Args:\n",
    "        - learning_rate: Amount with which to weight newly learned reward vs old reward (1 - lr)\n",
    "        - initial epsilon: The initial probability w/ with we sample random action (exploration)\n",
    "        - epsilon_decay: Value by which epsilon value decays through subtraction\n",
    "        - final_epsilon: Epsilon value at which decay stops\n",
    "        - discount_factor: The factor by which future rewards are counted, i.e. expected return on next state (recursive)\n",
    "        \"\"\"\n",
    "        self.q_values = defaultdict(lambda: np.zeros(env.action_space.n))\n",
    "\n",
    "        self.lr = learning_rate\n",
    "        self.discount_factor = discount_factor\n",
    "\n",
    "        self.epsilon = initial_epsilon\n",
    "        self.epsilon_decay = epsilon_decay\n",
    "        self.final_epsilon = final_epsilon\n",
    "        \n",
    "        self.training_error = []\n",
    "    \n",
    "    def get_action(self, state: tuple[int, int, bool]) -> int:\n",
    "        \"\"\"\n",
    "        Returns the best action with probability (1 - epsilon) -> exploitation. \n",
    "        Otherwise a random action with probability epsilon to ensure exploration.\n",
    "        \"\"\"\n",
    "        if np.random.random() < self.epsilon:\n",
    "            return env.action_space.sample()\n",
    "        else:\n",
    "            return int(np.argmax(self.q_values[state]))\n",
    "    \n",
    "    def update(\n",
    "        self,\n",
    "        state: tuple[int, int, bool],\n",
    "        action: int,\n",
    "        reward: float,\n",
    "        terminated: bool,\n",
    "        next_state: tuple[int, int, bool]\n",
    "    ):\n",
    "        \"\"\"\n",
    "        Updates the Q-value of an action.\n",
    "        The Q-value update is equivalent to the following weighting of old and new information by the learning rate:\n",
    "        # self.q_values[state][action] = (1 - self.lr) * self.q_values[state][action] +\n",
    "        #                                self.lr * (reward + self.discount_factor * future_q_value)\n",
    "        The temporal difference is the difference between the old and new value over one (time) step.\n",
    "        \"\"\"\n",
    "        future_q_value = (not terminated) * np.max(self.q_values[next_state]) \n",
    "        temporal_difference = reward + self.discount_factor * future_q_value - self.q_values[state][action]\n",
    "        self.q_values[state][action] = self.q_values[state][action] + self.lr * temporal_difference\n",
    "        self.training_error.append(temporal_difference)\n",
    "\n",
    "    def decay_epsilon(self):\n",
    "        self.epsilon = max(self.final_epsilon, self.epsilon - self.epsilon_decay)"
   ]
  },
  {
   "cell_type": "code",
   "execution_count": null,
   "metadata": {},
   "outputs": [],
   "source": [
    "print(agent.q_values)"
   ]
  },
  {
   "attachments": {},
   "cell_type": "markdown",
   "metadata": {},
   "source": [
    "# Write training loop"
   ]
  },
  {
   "cell_type": "code",
   "execution_count": null,
   "metadata": {},
   "outputs": [],
   "source": [
    "learning_rate = 0.01\n",
    "n_episodes = 1000\n",
    "initial_epsilon = 1.0\n",
    "epsilon_decay = initial_epsilon / (n_episodes / 2)\n",
    "final_epsilon = 0.1\n",
    "\n",
    "agent = FrozenLakeAgent(\n",
    "    learning_rate = learning_rate,\n",
    "    initial_epsilon = initial_epsilon,\n",
    "    epsilon_decay = epsilon_decay,\n",
    "    final_epsilon = final_epsilon,\n",
    ")\n",
    "\n",
    "env = gym.wrappers.RecordEpisodeStatistics(env, deque_size=n_episodes)\n",
    "for episode in tqdm(range(n_episodes)):\n",
    "    state, info = env.reset()\n",
    "    done = False\n",
    "    \n",
    "    #play one episode\n",
    "    while not done:\n",
    "        action = agent.get_action(state)\n",
    "        next_state, reward, terminated, truncated, info = env.step(action)\n",
    "\n",
    "        # update the agent\n",
    "        agent.update(state, action, reward, terminated, next_state)\n",
    "\n",
    "        # update done status and state\n",
    "        done = terminated or truncated\n",
    "        state = next_state\n",
    "\n",
    "    # once a game is finished we decay epsilon -> converge towards exploitation\n",
    "    agent.decay_epsilon()"
   ]
  }
 ],
 "metadata": {
  "kernelspec": {
   "display_name": "Python 3.10.8 ('drl')",
   "language": "python",
   "name": "python3"
  },
  "language_info": {
   "codemirror_mode": {
    "name": "ipython",
    "version": 3
   },
   "file_extension": ".py",
   "mimetype": "text/x-python",
   "name": "python",
   "nbconvert_exporter": "python",
   "pygments_lexer": "ipython3",
   "version": "3.10.8"
  },
  "orig_nbformat": 4,
  "vscode": {
   "interpreter": {
    "hash": "28c168c855826d6a306c7ef584e2992a063631e8777795e1e4ec8bd8ff15ed8c"
   }
  }
 },
 "nbformat": 4,
 "nbformat_minor": 2
}
